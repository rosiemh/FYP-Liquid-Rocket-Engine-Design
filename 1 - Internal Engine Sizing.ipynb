{
 "cells": [
  {
   "cell_type": "code",
   "execution_count": 1,
   "metadata": {},
   "outputs": [
    {
     "name": "stdout",
     "output_type": "stream",
     "text": [
      "D1 = 37.1 mm\n",
      "Dt = 21.42 mm\n",
      "D2 = 38.45 mm\n"
     ]
    }
   ],
   "source": [
    "import numpy as np\n",
    "import CoolProp.CoolProp as CP\n",
    "import matplotlib.pyplot as plt\n",
    "import math\n",
    "\n",
    "# Taking an average of the gamma values from CEA\n",
    "\n",
    "gamma = 1.29\n",
    "\n",
    "# Adiabatic flame temperature = chamber temp from CEA\n",
    "\n",
    "T1 = 2190.61 # [K]\n",
    "\n",
    "Tt = T1 * 2 / (gamma + 1)\n",
    "\n",
    "R = 287\n",
    "\n",
    "vt = math.sqrt(2 * gamma / (gamma + 1) * R * T1)\n",
    "\n",
    "p2 = 101325 # atmospheric pressure [Pa]\n",
    "\n",
    "p1 = 2e6 # chamber pressure [bar]\n",
    "\n",
    "M2 = math.sqrt((2 * ( (p2 / p1)**(-(gamma - 1) / gamma) - 1)) / (gamma - 1))\n",
    "\n",
    "v2 = math.sqrt(2 * (gamma / (gamma - 1)) * R * T1 * (1 - (p2 / p1)**((gamma - 1) / gamma)))\n",
    "\n",
    "T2 = v2**2 / (M2**2 * gamma * R)\n",
    "\n",
    "F = 1000 # Thrust [N]\n",
    "\n",
    "mdot = F / v2\n",
    "\n",
    "g = 9.81\n",
    "\n",
    "ISP = v2 / g\n",
    "\n",
    "At = mdot / p1 * math.sqrt(T1 * R / gamma) * (1 + (gamma - 1) / 2)**((gamma + 1) / (2 * (gamma - 1)))\n",
    "\n",
    "A2 = At / M2 * (2 / (gamma + 1) * (1 + (gamma - 1) / 2 * M2**2))**((gamma + 1) / (2 * (gamma - 1)))\n",
    "\n",
    "contr = 3 # Contraction ratio A1 / At\n",
    "\n",
    "A1 = At * contr\n",
    "\n",
    "D1 = 2 * math.sqrt(A1 / math.pi)\n",
    "Dt = 2 * math.sqrt(At / math.pi)\n",
    "D2 = 2 * math.sqrt(A2 / math.pi)\n",
    "\n",
    "print(f\"D1 = {round(D1*1000,2)} mm\")\n",
    "print(f\"Dt = {round(Dt*1000,2)} mm\")\n",
    "print(f\"D2 = {round(D2*1000,2)} mm\")"
   ]
  },
  {
   "cell_type": "code",
   "execution_count": null,
   "metadata": {},
   "outputs": [],
   "source": []
  }
 ],
 "metadata": {
  "kernelspec": {
   "display_name": "Python 3",
   "language": "python",
   "name": "python3"
  },
  "language_info": {
   "codemirror_mode": {
    "name": "ipython",
    "version": 3
   },
   "file_extension": ".py",
   "mimetype": "text/x-python",
   "name": "python",
   "nbconvert_exporter": "python",
   "pygments_lexer": "ipython3",
   "version": "3.8.3"
  }
 },
 "nbformat": 4,
 "nbformat_minor": 4
}
